{
  "cells": [
    {
      "cell_type": "markdown",
      "metadata": {
        "id": "view-in-github",
        "colab_type": "text"
      },
      "source": [
        "<a href=\"https://colab.research.google.com/github/MostafaELFEEL/-MostafaELFEEL-s-Project-1-professional-embedded-course-Udacity/blob/main/model_training.ipynb\" target=\"_parent\"><img src=\"https://colab.research.google.com/assets/colab-badge.svg\" alt=\"Open In Colab\"/></a>"
      ]
    },
    {
      "cell_type": "markdown",
      "metadata": {
        "id": "UWtNTskCqldn"
      },
      "source": [
        "# CNN"
      ]
    },
    {
      "cell_type": "code",
      "source": [
        "from google.colab import drive\n",
        "drive.mount('/content/drive')"
      ],
      "metadata": {
        "colab": {
          "base_uri": "https://localhost:8080/"
        },
        "id": "N8AU0opquSl1",
        "outputId": "e8797cd8-57a0-4222-d962-24f8fb8aae16"
      },
      "execution_count": 1,
      "outputs": [
        {
          "output_type": "stream",
          "name": "stdout",
          "text": [
            "Mounted at /content/drive\n"
          ]
        }
      ]
    },
    {
      "cell_type": "code",
      "execution_count": 4,
      "metadata": {
        "colab": {
          "base_uri": "https://localhost:8080/"
        },
        "id": "Ee_OA79kqldr",
        "outputId": "fb5f70d8-3299-4199-a3ac-3ffa806dcce1"
      },
      "outputs": [
        {
          "output_type": "stream",
          "name": "stdout",
          "text": [
            "2629\n"
          ]
        }
      ],
      "source": [
        "import numpy as np\n",
        "import matplotlib.pyplot as plt\n",
        "import torch as t\n",
        "import torch.nn as nn\n",
        "import torch.nn.functional as F\n",
        "import cv2\n",
        "import os\n",
        "import torchvision.transforms as transforms\n",
        "from sklearn.model_selection import train_test_split\n",
        "import torchvision\n",
        "import csv\n",
        "####################################\n",
        "def imshow(img):\n",
        "    plt.imshow(cv2.cvtColor(np.transpose(np.array(img),(1,2,0)),cv2.COLOR_RGB2BGR))\n",
        "###################################\n",
        "device = t.device('cuda' if t.cuda.is_available() else 'cpu')\n",
        "\n",
        "####################################\n",
        "#load csv and remove the path\n",
        "with open('/content/drive/MyDrive/pytorch/driving_log.csv', newline='') as csvfile:\n",
        "    data = list(csv.reader(csvfile))\n",
        "####################################\n",
        "for i in range(len(data)):\n",
        "    for j in range(3):\n",
        "        data[i][j]=data[i][j].replace('C:\\\\Users\\\\mosta\\\\Downloads\\\\AI racing team\\\\beta_simulator_windows\\\\Data\\\\IMG\\\\','')\n",
        "####################################\n",
        "#load images in data\n",
        "directory_images=\"Data\\IMG\"\n",
        "print(len(data))\n",
        "for i in range(len(data)):\n",
        "    data[i][0]=transforms.ToTensor()(cv2.imread('/content/drive/MyDrive/pytorch/IMG/'+data[i][0]))\n",
        "        #print(data[i][j].shape)\n",
        "###################################\n",
        "#tranform column 3,4,5,6 to tensors\n",
        "for i in range(len(data)):\n",
        "    for j in range(3,7):\n",
        "        data[i][j]=t.tensor(float(data[i][j]))\n",
        "###################################\n",
        "\n",
        "\n",
        "class ConvNet(nn.Module):\n",
        "    def __init__(self):\n",
        "        super().__init__()\n",
        "\n",
        "        self.conv1=nn.Conv2d(3,64,7)\n",
        "        self.conv2=nn.Conv2d(64,64,5)\n",
        "        self.conv3=nn.Conv2d(64,64,3)\n",
        "        self.pool=nn.MaxPool2d(2,2)\n",
        "\n",
        "\n",
        "        self.fc1=nn.Linear(64*17*37,128)\n",
        "        self.fc2=nn.Linear(128,2)\n",
        "\n",
        "    def forward(self,x):\n",
        "        # N,3,160,320\n",
        "        #print(x.shape)\n",
        "        x=self.pool(F.relu(self.conv1(x)))    # N,64,77,157\n",
        "        #print(x.shape)\n",
        "\n",
        "        x=self.pool(F.relu(self.conv2(x)))  # N 64,36,76\n",
        "        #print(x.shape)\n",
        "\n",
        "        x=self.pool(F.relu(self.conv3(x)))  # N,64,17,37\n",
        "        #print(x.shape)\n",
        "\n",
        "        x=x.view(-1,64*17*37)     # N,64*17*37\n",
        "        #print(x.shape)\n",
        "\n",
        "        x=F.relu(self.fc1(x))    # N,128\n",
        "        #print(x.shape)\n",
        "\n",
        "        x=self.fc2(x)            # N,2\n",
        "        #print(x.shape)\n",
        "        return x\n",
        "###################################\n",
        "class CustomCNN(nn.Module):\n",
        "    def __init__(self):\n",
        "        super(CustomCNN, self).__init__()\n",
        "        # Define the layers for your CNN architecture\n",
        "        self.conv1 = nn.Conv2d(in_channels=3, out_channels=16, kernel_size=3, stride=1, padding=1)\n",
        "        self.relu1 = nn.ReLU()\n",
        "        self.pool1 = nn.MaxPool2d(kernel_size=2, stride=2)\n",
        "        self.conv2 = nn.Conv2d(in_channels=16, out_channels=32, kernel_size=3, stride=1, padding=1)\n",
        "        self.relu2 = nn.ReLU()\n",
        "        self.pool2 = nn.MaxPool2d(kernel_size=2, stride=2)\n",
        "        self.fc1 = nn.Linear(32 * 40 * 80, 64)  # Adjust the input size based on your image dimensions\n",
        "        self.relu3 = nn.ReLU()\n",
        "        self.fc2 = nn.Linear(64, 2)  # Output two values\n",
        "\n",
        "    def forward(self, x):\n",
        "        # Define the forward pass of your model\n",
        "        #N,3,160,320\n",
        "        x = self.pool1(self.relu1(self.conv1(x))) # N,16,80,160\n",
        "        x = self.pool2(self.relu2(self.conv2(x))) # N,32,40,80\n",
        "        x = x.view(-1,32*40*80)  # Flatten the feature maps  #N,32*40*80\n",
        "        x = self.relu3(self.fc1(x)) # N,64\n",
        "        x = self.fc2(x) # N,2\n",
        "        return x\n",
        "\n",
        "###################################\n",
        "\n",
        "\n",
        "\n"
      ]
    },
    {
      "cell_type": "code",
      "source": [
        "###################################\n",
        "#hyperparameters\n",
        "epochs=20\n",
        "batch_size=128\n",
        "learning_rate=0.001   #0.001\n",
        "#############################\n",
        "#split data to train,test\n",
        "#train_data, test_data = train_test_split(data, test_size=0.3, random_state=42)\n",
        "train_data=data\n",
        "###################################\n",
        "train_data=t.utils.data.DataLoader(train_data,batch_size=batch_size,shuffle=True)\n",
        "#test_data=t.utils.data.DataLoader(test_data,batch_size=batch_size,shuffle=True)\n",
        "\n",
        "###################################\n",
        "#model = ConvNet()\n",
        "model = CustomCNN().to(device)\n",
        "#print(model)\n",
        "\n",
        "###################################\n",
        "\n",
        "criterion=nn.MSELoss()\n",
        "optimizer=t.optim.Adam(model.parameters(),lr=learning_rate)\n",
        "\n",
        "n_total_steps = len(train_data)\n",
        "\n",
        "###################################"
      ],
      "metadata": {
        "id": "Z7CrkbJreW3g"
      },
      "execution_count": 43,
      "outputs": []
    },
    {
      "cell_type": "markdown",
      "metadata": {
        "id": "1rUwoJWQqldz"
      },
      "source": [
        "# Train"
      ]
    },
    {
      "cell_type": "code",
      "execution_count": 46,
      "metadata": {
        "id": "oDJXDpxrqld0",
        "outputId": "ea671634-b1ba-47f2-daa1-44bcf06835f3",
        "colab": {
          "base_uri": "https://localhost:8080/"
        }
      },
      "outputs": [
        {
          "output_type": "stream",
          "name": "stdout",
          "text": [
            "[1] loss: 0.017\n",
            "[2] loss: 0.016\n",
            "[3] loss: 0.013\n",
            "[4] loss: 0.012\n",
            "[5] loss: 0.011\n",
            "[6] loss: 0.010\n",
            "[7] loss: 0.010\n",
            "[8] loss: 0.009\n",
            "[9] loss: 0.008\n",
            "[10] loss: 0.008\n",
            "[11] loss: 0.007\n",
            "[12] loss: 0.007\n",
            "[13] loss: 0.006\n",
            "[14] loss: 0.006\n",
            "[15] loss: 0.005\n",
            "[16] loss: 0.005\n",
            "[17] loss: 0.006\n",
            "[18] loss: 0.007\n",
            "[19] loss: 0.004\n",
            "[20] loss: 0.005\n",
            "Finished Training\n"
          ]
        }
      ],
      "source": [
        "for epoch in range(epochs):\n",
        "    running_loss=0.0\n",
        "\n",
        "    for i,(center,left,right,steering,thrust,reverse,speed) in enumerate(train_data):\n",
        "\n",
        "        center = center.to(device)\n",
        "\n",
        "\n",
        "        labels=t.cat((steering.unsqueeze(1),thrust.unsqueeze(1)),dim=1)\n",
        "        labels = labels.to(device)\n",
        "\n",
        "        outputs=model(center)\n",
        "        loss=criterion(outputs,labels)\n",
        "\n",
        "        loss.backward()\n",
        "        optimizer.step()\n",
        "        optimizer.zero_grad()\n",
        "\n",
        "        running_loss+=loss.item()\n",
        "\n",
        "    print(f'[{epoch + 1}] loss: {running_loss / n_total_steps:.3f}')\n",
        "\n",
        "print('Finished Training')\n",
        "PATH = './model.pth'\n",
        "t.save(model, PATH)\n"
      ]
    },
    {
      "cell_type": "markdown",
      "metadata": {
        "id": "hdD1Ocnnqld1"
      },
      "source": [
        "# Test"
      ]
    },
    {
      "cell_type": "code",
      "execution_count": 48,
      "metadata": {
        "id": "paOozOpzqld2",
        "outputId": "d02fa8ae-1194-4980-cf01-fdf25a2d70f1",
        "colab": {
          "base_uri": "https://localhost:8080/"
        }
      },
      "outputs": [
        {
          "output_type": "stream",
          "name": "stdout",
          "text": [
            "[1] loss: 0.012\n",
            "MAE: 0.08396846055984497\n",
            "RMSE: 0.1093476340174675\n",
            "[2] loss: 0.011\n",
            "MAE: 0.08416697382926941\n",
            "RMSE: 0.10515771806240082\n",
            "[3] loss: 0.017\n",
            "MAE: 0.0946195051074028\n",
            "RMSE: 0.12902995944023132\n",
            "[4] loss: 0.013\n",
            "MAE: 0.09136063605546951\n",
            "RMSE: 0.11425990611314774\n",
            "[5] loss: 0.011\n",
            "MAE: 0.07971160113811493\n",
            "RMSE: 0.10567068308591843\n",
            "[6] loss: 0.014\n",
            "MAE: 0.09189678728580475\n",
            "RMSE: 0.11815019696950912\n",
            "[7] loss: 0.015\n",
            "MAE: 0.09565868973731995\n",
            "RMSE: 0.12431326508522034\n",
            "[8] loss: 0.012\n",
            "MAE: 0.08641223609447479\n",
            "RMSE: 0.10793934017419815\n",
            "[9] loss: 0.014\n",
            "MAE: 0.09387055784463882\n",
            "RMSE: 0.11674318462610245\n",
            "[10] loss: 0.009\n",
            "MAE: 0.07395987212657928\n",
            "RMSE: 0.09219551831483841\n",
            "[11] loss: 0.011\n",
            "MAE: 0.08677958697080612\n",
            "RMSE: 0.10483354330062866\n",
            "[12] loss: 0.010\n",
            "MAE: 0.07705940306186676\n",
            "RMSE: 0.09798282384872437\n",
            "[13] loss: 0.010\n",
            "MAE: 0.07788576185703278\n",
            "RMSE: 0.10029571503400803\n",
            "MAE_total: 0.08595000551297115\n",
            "RMSE_total: 0.10968611446710733\n"
          ]
        }
      ],
      "source": [
        "mae_total=0\n",
        "rmse_total=0\n",
        "counter=0\n",
        "with t.no_grad():\n",
        "    for i,(center,left,right,steering,thrust,reverse,speed) in enumerate(test_data):\n",
        "        labels=t.cat((steering.unsqueeze(1),thrust.unsqueeze(1)),dim=1)\n",
        "        labels = labels.to(device)\n",
        "        center = center.to(device)\n",
        "        outputs=model(center)\n",
        "        loss=criterion(outputs,labels)\n",
        "\n",
        "        print(f'[{i + 1}] loss: {loss.item():.3f}')\n",
        "\n",
        "        mae = t.mean(t.abs(outputs - labels))\n",
        "        mae_total+=mae.item()\n",
        "\n",
        "\n",
        "        # Calculate Root Mean Squared Error (RMSE)\n",
        "        rmse = t.sqrt(t.mean((outputs - labels) ** 2))\n",
        "        rmse_total+=rmse.item()\n",
        "\n",
        "        print(f\"MAE: {mae.item()}\")\n",
        "        print(f\"RMSE: {rmse.item()}\")\n",
        "        counter=i+1\n",
        "\n",
        "\n",
        "print(f\"MAE_total: {mae_total/counter}\")\n",
        "print(f\"RMSE_total: {rmse_total/counter}\")"
      ]
    }
  ],
  "metadata": {
    "accelerator": "GPU",
    "colab": {
      "provenance": [],
      "gpuType": "T4",
      "include_colab_link": true
    },
    "kernelspec": {
      "display_name": "Python 3",
      "name": "python3"
    },
    "language_info": {
      "codemirror_mode": {
        "name": "ipython",
        "version": 3
      },
      "file_extension": ".py",
      "mimetype": "text/x-python",
      "name": "python",
      "nbconvert_exporter": "python",
      "pygments_lexer": "ipython3",
      "version": "3.9.12"
    },
    "vscode": {
      "interpreter": {
        "hash": "cf0b053ec60c51acbf9b234663d2a94147f1419af99fefc5982f553fc46997b4"
      }
    }
  },
  "nbformat": 4,
  "nbformat_minor": 0
}